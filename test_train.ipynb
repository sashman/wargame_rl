{
 "cells": [
  {
   "cell_type": "code",
   "execution_count": null,
   "id": "0e680164",
   "metadata": {},
   "outputs": [],
   "source": [
    "%load_ext autoreload\n",
    "%autoreload 2"
   ]
  },
  {
   "cell_type": "code",
   "execution_count": null,
   "id": "515e34f5",
   "metadata": {},
   "outputs": [],
   "source": [
    "import yaml\n",
    "from wargame_rl.wargame.model.dqn.dqn import DQN\n",
    "from wargame_rl.wargame.model.dqn.lightning import DQNLightning\n",
    "from pytorch_lightning import Trainer\n",
    "from pytorch_lightning.loggers import CSVLogger\n",
    "import gymnasium as gym\n",
    "from gymnasium.spaces.utils import flatten_space"
   ]
  },
  {
   "cell_type": "code",
   "execution_count": null,
   "id": "c5914384",
   "metadata": {},
   "outputs": [],
   "source": [
    "with open(\"hyperparameters.yml\", \"r\") as f:\n",
    "    hyperparameters = yaml.safe_load(f)\n",
    "\n",
    "hyperparameters"
   ]
  },
  {
   "cell_type": "code",
   "execution_count": null,
   "id": "5d955138",
   "metadata": {},
   "outputs": [],
   "source": [
    "# Create the environment\n",
    "env_id = hyperparameters[\"wargame\"][\"env_id\"]\n",
    "env = gym.make(env_id, render_mode=None)"
   ]
  },
  {
   "cell_type": "code",
   "execution_count": null,
   "id": "1de0510c",
   "metadata": {},
   "outputs": [],
   "source": [
    "# Build the network\n",
    "obs_size = flatten_space(env.observation_space).shape[0]\n",
    "n_actions = env.action_space.n\n",
    "net = DQN(obs_size, n_actions)"
   ]
  },
  {
   "cell_type": "code",
   "execution_count": null,
   "id": "aac9cc09",
   "metadata": {},
   "outputs": [],
   "source": [
    "model = DQNLightning(env=env, net=net)"
   ]
  },
  {
   "cell_type": "code",
   "execution_count": null,
   "id": "d131b8be",
   "metadata": {},
   "outputs": [],
   "source": [
    "dataloader = model.train_dataloader()\n",
    "batch = next(iter(dataloader))\n",
    "batch"
   ]
  },
  {
   "cell_type": "code",
   "execution_count": null,
   "id": "66a91ca3",
   "metadata": {},
   "outputs": [],
   "source": [
    "trainer = Trainer(\n",
    "    accelerator=\"auto\",\n",
    "    max_epochs=150,\n",
    "    val_check_interval=50,\n",
    "    logger=CSVLogger(save_dir=\"logs/\"),\n",
    ")\n",
    "\n",
    "trainer.fit(model)"
   ]
  },
  {
   "cell_type": "code",
   "execution_count": null,
   "id": "f53c59e9",
   "metadata": {},
   "outputs": [],
   "source": []
  }
 ],
 "metadata": {
  "kernelspec": {
   "display_name": ".venv",
   "language": "python",
   "name": "python3"
  },
  "language_info": {
   "codemirror_mode": {
    "name": "ipython",
    "version": 3
   },
   "file_extension": ".py",
   "mimetype": "text/x-python",
   "name": "python",
   "nbconvert_exporter": "python",
   "pygments_lexer": "ipython3",
   "version": "3.12.3"
  }
 },
 "nbformat": 4,
 "nbformat_minor": 5
}
